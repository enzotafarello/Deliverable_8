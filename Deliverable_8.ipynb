{
 "cells": [
  {
   "cell_type": "code",
   "execution_count": 1,
   "id": "2b25317b",
   "metadata": {},
   "outputs": [],
   "source": [
    "import numpy as np"
   ]
  },
  {
   "cell_type": "code",
   "execution_count": 2,
   "id": "74c77695",
   "metadata": {},
   "outputs": [],
   "source": [
    "def random_list(size):\n",
    "    list = []\n",
    "    for i in range(size):\n",
    "        list.append(np.random.randint(10,50))\n",
    "    return list\n",
    "\n",
    "def sum_random (list):\n",
    "    sum = 0\n",
    "    for i in range(len(list)):\n",
    "        sum = sum + list[i]\n",
    "    return sum"
   ]
  },
  {
   "cell_type": "code",
   "execution_count": 23,
   "id": "e01631cc",
   "metadata": {},
   "outputs": [
    {
     "name": "stdout",
     "output_type": "stream",
     "text": [
      "Enter an integer number between 5 and 15: 5\n"
     ]
    }
   ],
   "source": [
    "n = int(input(\"Enter an integer number between 5 and 15: \"))"
   ]
  },
  {
   "cell_type": "code",
   "execution_count": 24,
   "id": "0f822b2d",
   "metadata": {},
   "outputs": [
    {
     "name": "stdout",
     "output_type": "stream",
     "text": [
      "The elements of the arrays are: 29, 41, 16, 41, 18\n",
      "The sum is: 145\n"
     ]
    }
   ],
   "source": [
    "if n > 15 or n < 5:\n",
    "    print(\"Please, enter an integer number between 5 and 15\")\n",
    "else:\n",
    "    mylist = (random_list(n))\n",
    "    print(\"The elements of the arrays are: \" + str(mylist)[1:-1])\n",
    "    mysum = sum_random(mylist)\n",
    "    print(\"The sum is: \" + str(mysum))"
   ]
  }
 ],
 "metadata": {
  "kernelspec": {
   "display_name": "Python 3 (ipykernel)",
   "language": "python",
   "name": "python3"
  },
  "language_info": {
   "codemirror_mode": {
    "name": "ipython",
    "version": 3
   },
   "file_extension": ".py",
   "mimetype": "text/x-python",
   "name": "python",
   "nbconvert_exporter": "python",
   "pygments_lexer": "ipython3",
   "version": "3.9.13"
  }
 },
 "nbformat": 4,
 "nbformat_minor": 5
}
